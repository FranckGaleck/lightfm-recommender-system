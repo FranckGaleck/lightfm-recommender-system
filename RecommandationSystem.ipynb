{
  "nbformat": 4,
  "nbformat_minor": 0,
  "metadata": {
    "colab": {
      "provenance": []
    },
    "kernelspec": {
      "name": "python3",
      "display_name": "Python 3"
    },
    "language_info": {
      "name": "python"
    }
  },
  "cells": [
    {
      "cell_type": "code",
      "execution_count": null,
      "metadata": {
        "colab": {
          "base_uri": "https://localhost:8080/"
        },
        "id": "B6AmYpeMEr3d",
        "outputId": "b19775e6-a910-45d2-c909-f5f287235914"
      },
      "outputs": [
        {
          "output_type": "stream",
          "name": "stdout",
          "text": [
            "Requirement already satisfied: lightfm in /usr/local/lib/python3.11/dist-packages (1.17)\n",
            "Requirement already satisfied: numpy in /usr/local/lib/python3.11/dist-packages (from lightfm) (2.0.2)\n",
            "Requirement already satisfied: scipy>=0.17.0 in /usr/local/lib/python3.11/dist-packages (from lightfm) (1.14.1)\n",
            "Requirement already satisfied: requests in /usr/local/lib/python3.11/dist-packages (from lightfm) (2.32.3)\n",
            "Requirement already satisfied: scikit-learn in /usr/local/lib/python3.11/dist-packages (from lightfm) (1.6.1)\n",
            "Requirement already satisfied: charset-normalizer<4,>=2 in /usr/local/lib/python3.11/dist-packages (from requests->lightfm) (3.4.1)\n",
            "Requirement already satisfied: idna<4,>=2.5 in /usr/local/lib/python3.11/dist-packages (from requests->lightfm) (3.10)\n",
            "Requirement already satisfied: urllib3<3,>=1.21.1 in /usr/local/lib/python3.11/dist-packages (from requests->lightfm) (2.3.0)\n",
            "Requirement already satisfied: certifi>=2017.4.17 in /usr/local/lib/python3.11/dist-packages (from requests->lightfm) (2025.1.31)\n",
            "Requirement already satisfied: joblib>=1.2.0 in /usr/local/lib/python3.11/dist-packages (from scikit-learn->lightfm) (1.4.2)\n",
            "Requirement already satisfied: threadpoolctl>=3.1.0 in /usr/local/lib/python3.11/dist-packages (from scikit-learn->lightfm) (3.6.0)\n"
          ]
        }
      ],
      "source": [
        "!pip install lightfm"
      ]
    },
    {
      "cell_type": "code",
      "source": [
        "import pandas as pd\n",
        "from lightfm import LightFM\n",
        "from lightfm.data import Dataset\n",
        "import numpy as np\n",
        "import pickle\n",
        "from sklearn.model_selection import train_test_split"
      ],
      "metadata": {
        "id": "aTSJxxbQE7ki"
      },
      "execution_count": null,
      "outputs": []
    },
    {
      "cell_type": "code",
      "source": [
        "# 📥 Étape 1 : Charger MovieLens\n",
        "url = \"https://files.grouplens.org/datasets/movielens/ml-100k/u.data\"\n",
        "columns = ['user_id', 'item_id', 'rating', 'timestamp']\n",
        "df = pd.read_csv(url, sep='\\t', names=columns)\n",
        "\n",
        "# Take only if he likes movie\n",
        "df = df[df['rating'] >= 4]\n",
        "\n",
        "# 🧼 Convertir les IDs en strings\n",
        "# Convertir les IDs en string AVANT de les passer à LightFM\n",
        "df['user_id'] = df['user_id'].astype(str)\n",
        "df['item_id'] = df['item_id'].astype(str)\n",
        "\n",
        "\n",
        "# Split en 80% train / 20% test\n",
        "df_train, df_test = train_test_split(df, test_size=0.2, random_state=42)\n"
      ],
      "metadata": {
        "colab": {
          "base_uri": "https://localhost:8080/"
        },
        "id": "fBzvYHuCFA9f",
        "outputId": "a79128ff-a981-44d9-9e61-0f85de3967b6"
      },
      "execution_count": null,
      "outputs": [
        {
          "output_type": "stream",
          "name": "stderr",
          "text": [
            "<ipython-input-4-6d93c912389d>:11: SettingWithCopyWarning: \n",
            "A value is trying to be set on a copy of a slice from a DataFrame.\n",
            "Try using .loc[row_indexer,col_indexer] = value instead\n",
            "\n",
            "See the caveats in the documentation: https://pandas.pydata.org/pandas-docs/stable/user_guide/indexing.html#returning-a-view-versus-a-copy\n",
            "  df['user_id'] = df['user_id'].astype(str)\n",
            "<ipython-input-4-6d93c912389d>:12: SettingWithCopyWarning: \n",
            "A value is trying to be set on a copy of a slice from a DataFrame.\n",
            "Try using .loc[row_indexer,col_indexer] = value instead\n",
            "\n",
            "See the caveats in the documentation: https://pandas.pydata.org/pandas-docs/stable/user_guide/indexing.html#returning-a-view-versus-a-copy\n",
            "  df['item_id'] = df['item_id'].astype(str)\n"
          ]
        }
      ]
    },
    {
      "cell_type": "code",
      "source": [
        "# Fit uniquement sur le TRAIN pour ne pas biaise le TEST set\n",
        "dataset = Dataset()\n",
        "dataset.fit(df['user_id'], df['item_id'])  # Fit sur tout pour garder tous les IDs connus\n",
        "\n",
        "# Matrice d’entraînement\n",
        "interactions_train, _ = dataset.build_interactions([\n",
        "    (row.user_id, row.item_id) for row in df_train.itertuples()\n",
        "])\n",
        "\n",
        "# Matrice de test (à utiliser avec precision@k ou auc_score)\n",
        "interactions_test, _ = dataset.build_interactions([\n",
        "    (row.user_id, row.item_id) for row in df_test.itertuples()\n",
        "])"
      ],
      "metadata": {
        "id": "A1jL1p--FF-Y"
      },
      "execution_count": null,
      "outputs": []
    },
    {
      "cell_type": "code",
      "source": [
        "from lightfm.evaluation import precision_at_k\n",
        "\n",
        "epochs = 30\n",
        "train_precisions = []\n",
        "test_precisions = []\n",
        "\"\"\"\n",
        "for epoch in range(epochs):\n",
        "    model.fit_partial(interactions_train, epochs=1, num_threads=2)\n",
        "    train_precision = precision_at_k(model, interactions_train, k=5).mean()\n",
        "    test_precision = precision_at_k(model, interactions_test, k=5).mean()\n",
        "\n",
        "    train_precisions.append(train_precision)\n",
        "    test_precisions.append(test_precision)\n",
        "\n",
        "    print(f\"Epoch {epoch+1}: Train P@5 = {train_precision:.4f} | Test P@5 = {test_precision:.4f}\")\"\"\"\n",
        "model = LightFM(loss='warp')\n",
        "model.fit(interactions_train, epochs=12, num_threads=2)"
      ],
      "metadata": {
        "colab": {
          "base_uri": "https://localhost:8080/"
        },
        "id": "WigUsyZ3FNOn",
        "outputId": "08bbe9c1-4c81-43f3-cfdf-6650c840a31c"
      },
      "execution_count": null,
      "outputs": [
        {
          "output_type": "execute_result",
          "data": {
            "text/plain": [
              "<lightfm.lightfm.LightFM at 0x7880e962dc10>"
            ]
          },
          "metadata": {},
          "execution_count": 6
        }
      ]
    },
    {
      "cell_type": "code",
      "source": [
        "from sklearn.preprocessing import MinMaxScaler\n",
        "from lightfm.evaluation import precision_at_k, auc_score\n",
        "\n",
        "print(\"📈 Precision@5 :\", precision_at_k(model, interactions_test, k=5).mean())\n",
        "print(\"🎯 AUC Score :\", auc_score(model, interactions_test).mean())"
      ],
      "metadata": {
        "colab": {
          "base_uri": "https://localhost:8080/"
        },
        "id": "vDe3eizTFaQQ",
        "outputId": "b83fd1b4-60d7-4072-864d-ecf7fc73125d"
      },
      "execution_count": null,
      "outputs": [
        {
          "output_type": "stream",
          "name": "stdout",
          "text": [
            "📈 Precision@5 : 0.104451686\n",
            "🎯 AUC Score : 0.9033642\n"
          ]
        }
      ]
    },
    {
      "cell_type": "markdown",
      "source": [
        "Déclaration de la fonction :\n",
        "\n",
        "model : le modèle LightFM entraîné\n",
        "\n",
        "dataset : l'objet Dataset() de LightFM (contenant les mappings utilisateurs/items)\n",
        "\n",
        "user_id_str : ID utilisateur en string (ex. : '1')\n",
        "\n",
        "top_n : nombre de recommandations à renvoyer (par défaut : 5)\n",
        "\n"
      ],
      "metadata": {
        "id": "pXpGXxVOF8-c"
      }
    },
    {
      "cell_type": "code",
      "source": [
        "# ✅ Fonction de recommandation avec affichage des titres de films\n",
        "def recommend(model, dataset, user_id_str, movie_df, top_n=5,normalize=True):\n",
        "    # Récupère les mappings internes LightFM\n",
        "    # user_id_map : {'1': 0, '2': 1, ...}\n",
        "    # item_id_map : {'50': 0, '174': 1, ...}\n",
        "    user_id_map, _, item_id_map, _ = dataset.mapping()\n",
        "\n",
        "    # Vérifie si l'utilisateur est présent dans le dataset\n",
        "    if user_id_str not in user_id_map:\n",
        "        print(\"Utilisateur inconnu.\")\n",
        "        return []\n",
        "\n",
        "    # Convertit l'ID utilisateur (ex. '1') en index numérique interne (ex. 0)\n",
        "    user_idx = user_id_map[user_id_str]\n",
        "\n",
        "    # Récupère la liste des IDs réels des films (ex. ['50', '174', '56', ...])\n",
        "    item_ids = list(item_id_map.keys())\n",
        "\n",
        "    # Récupère les indices internes (entiers) des films (ex. [0, 1, 2, ...])\n",
        "    item_indices = list(item_id_map.values())\n",
        "\n",
        "    # Prédit un score pour chaque film pour l'utilisateur donné\n",
        "    # Renvoie un tableau de scores (plus c'est haut, plus c'est pertinent)\n",
        "    scores = model.predict(user_idx, np.array(item_indices))\n",
        "    #  Normalisation (optionnelle) des scores entre 0 et 1\n",
        "    if normalize:\n",
        "        scaler = MinMaxScaler()\n",
        "        scores = scaler.fit_transform(scores.reshape(-1, 1)).flatten()\n",
        "    # Trie les scores par ordre décroissant et garde les indices des top-N items\n",
        "    top_indices = np.argsort(scores)[::-1][:top_n]\n",
        "\n",
        "    # Récupère les IDs réels des items les mieux notés\n",
        "    top_items = [item_ids[i] for i in top_indices]\n",
        "\n",
        "    # Filtre le DataFrame movie_df pour ne garder que les films recommandés\n",
        "    recommended_movies = movie_df[movie_df['item_id'].isin(top_items)].copy()\n",
        "\n",
        "    # Crée une colonne \"rank\" pour garder l'ordre original de top_items\n",
        "    recommended_movies['rank'] = recommended_movies['item_id'].apply(lambda x: top_items.index(x))\n",
        "\n",
        "    # Trie les films selon leur rang dans le top N\n",
        "    recommended_movies = recommended_movies.sort_values('rank')\n",
        "\n",
        "    # Affiche les titres des films avec leur score\n",
        "    for idx, row in recommended_movies.iterrows():\n",
        "        # Récupère le score à partir de l'index dans item_ids\n",
        "        score = scores[item_ids.index(row['item_id'])]\n",
        "\n",
        "        # Affichage propre : 🎬 Titre (ID: 50) → Score: 0.9321\n",
        "        print(f\"🎬 {row['title']} (ID: {row['item_id']}) → Score: {round(score, 4)}\")\n",
        "\n",
        "    # Renvoie un DataFrame propre avec les films recommandés\n",
        "    return recommended_movies"
      ],
      "metadata": {
        "id": "_Dpzj7z1FXrR"
      },
      "execution_count": null,
      "outputs": []
    },
    {
      "cell_type": "code",
      "source": [
        "# 📁 Charger les titres de films (u.item)\n",
        "movie_url = \"https://files.grouplens.org/datasets/movielens/ml-100k/u.item\"\n",
        "movie_df = pd.read_csv(movie_url, sep='|', encoding='latin-1', header=None)\n",
        "movie_df = movie_df[[0, 1]]\n",
        "movie_df.columns = ['item_id', 'title']\n",
        "movie_df['item_id'] = movie_df['item_id'].astype(str)  # important\n"
      ],
      "metadata": {
        "id": "E6ir3QkdZYSQ"
      },
      "execution_count": null,
      "outputs": []
    },
    {
      "cell_type": "code",
      "source": [
        "# 🧪 Exemple : recommandations pour l'utilisateur '2'\n",
        "recommend(model, dataset, user_id_str='2', movie_df=movie_df, top_n=5)"
      ],
      "metadata": {
        "colab": {
          "base_uri": "https://localhost:8080/",
          "height": 293
        },
        "id": "hXSeuJveacon",
        "outputId": "447c90a6-37da-402d-ce6d-44dac39c95fe"
      },
      "execution_count": null,
      "outputs": [
        {
          "output_type": "stream",
          "name": "stdout",
          "text": [
            "🎬 English Patient, The (1996) (ID: 286) → Score: 1.0\n",
            "🎬 Titanic (1997) (ID: 313) → Score: 0.953499972820282\n",
            "🎬 Contact (1997) (ID: 258) → Score: 0.939300000667572\n",
            "🎬 Full Monty, The (1997) (ID: 269) → Score: 0.9222000241279602\n",
            "🎬 L.A. Confidential (1997) (ID: 302) → Score: 0.885200023651123\n"
          ]
        },
        {
          "output_type": "execute_result",
          "data": {
            "text/plain": [
              "    item_id                        title  rank\n",
              "285     286  English Patient, The (1996)     0\n",
              "312     313               Titanic (1997)     1\n",
              "257     258               Contact (1997)     2\n",
              "268     269       Full Monty, The (1997)     3\n",
              "301     302     L.A. Confidential (1997)     4"
            ],
            "text/html": [
              "\n",
              "  <div id=\"df-a47e6b86-0216-4710-94e2-50a4b97c4238\" class=\"colab-df-container\">\n",
              "    <div>\n",
              "<style scoped>\n",
              "    .dataframe tbody tr th:only-of-type {\n",
              "        vertical-align: middle;\n",
              "    }\n",
              "\n",
              "    .dataframe tbody tr th {\n",
              "        vertical-align: top;\n",
              "    }\n",
              "\n",
              "    .dataframe thead th {\n",
              "        text-align: right;\n",
              "    }\n",
              "</style>\n",
              "<table border=\"1\" class=\"dataframe\">\n",
              "  <thead>\n",
              "    <tr style=\"text-align: right;\">\n",
              "      <th></th>\n",
              "      <th>item_id</th>\n",
              "      <th>title</th>\n",
              "      <th>rank</th>\n",
              "    </tr>\n",
              "  </thead>\n",
              "  <tbody>\n",
              "    <tr>\n",
              "      <th>285</th>\n",
              "      <td>286</td>\n",
              "      <td>English Patient, The (1996)</td>\n",
              "      <td>0</td>\n",
              "    </tr>\n",
              "    <tr>\n",
              "      <th>312</th>\n",
              "      <td>313</td>\n",
              "      <td>Titanic (1997)</td>\n",
              "      <td>1</td>\n",
              "    </tr>\n",
              "    <tr>\n",
              "      <th>257</th>\n",
              "      <td>258</td>\n",
              "      <td>Contact (1997)</td>\n",
              "      <td>2</td>\n",
              "    </tr>\n",
              "    <tr>\n",
              "      <th>268</th>\n",
              "      <td>269</td>\n",
              "      <td>Full Monty, The (1997)</td>\n",
              "      <td>3</td>\n",
              "    </tr>\n",
              "    <tr>\n",
              "      <th>301</th>\n",
              "      <td>302</td>\n",
              "      <td>L.A. Confidential (1997)</td>\n",
              "      <td>4</td>\n",
              "    </tr>\n",
              "  </tbody>\n",
              "</table>\n",
              "</div>\n",
              "    <div class=\"colab-df-buttons\">\n",
              "\n",
              "  <div class=\"colab-df-container\">\n",
              "    <button class=\"colab-df-convert\" onclick=\"convertToInteractive('df-a47e6b86-0216-4710-94e2-50a4b97c4238')\"\n",
              "            title=\"Convert this dataframe to an interactive table.\"\n",
              "            style=\"display:none;\">\n",
              "\n",
              "  <svg xmlns=\"http://www.w3.org/2000/svg\" height=\"24px\" viewBox=\"0 -960 960 960\">\n",
              "    <path d=\"M120-120v-720h720v720H120Zm60-500h600v-160H180v160Zm220 220h160v-160H400v160Zm0 220h160v-160H400v160ZM180-400h160v-160H180v160Zm440 0h160v-160H620v160ZM180-180h160v-160H180v160Zm440 0h160v-160H620v160Z\"/>\n",
              "  </svg>\n",
              "    </button>\n",
              "\n",
              "  <style>\n",
              "    .colab-df-container {\n",
              "      display:flex;\n",
              "      gap: 12px;\n",
              "    }\n",
              "\n",
              "    .colab-df-convert {\n",
              "      background-color: #E8F0FE;\n",
              "      border: none;\n",
              "      border-radius: 50%;\n",
              "      cursor: pointer;\n",
              "      display: none;\n",
              "      fill: #1967D2;\n",
              "      height: 32px;\n",
              "      padding: 0 0 0 0;\n",
              "      width: 32px;\n",
              "    }\n",
              "\n",
              "    .colab-df-convert:hover {\n",
              "      background-color: #E2EBFA;\n",
              "      box-shadow: 0px 1px 2px rgba(60, 64, 67, 0.3), 0px 1px 3px 1px rgba(60, 64, 67, 0.15);\n",
              "      fill: #174EA6;\n",
              "    }\n",
              "\n",
              "    .colab-df-buttons div {\n",
              "      margin-bottom: 4px;\n",
              "    }\n",
              "\n",
              "    [theme=dark] .colab-df-convert {\n",
              "      background-color: #3B4455;\n",
              "      fill: #D2E3FC;\n",
              "    }\n",
              "\n",
              "    [theme=dark] .colab-df-convert:hover {\n",
              "      background-color: #434B5C;\n",
              "      box-shadow: 0px 1px 3px 1px rgba(0, 0, 0, 0.15);\n",
              "      filter: drop-shadow(0px 1px 2px rgba(0, 0, 0, 0.3));\n",
              "      fill: #FFFFFF;\n",
              "    }\n",
              "  </style>\n",
              "\n",
              "    <script>\n",
              "      const buttonEl =\n",
              "        document.querySelector('#df-a47e6b86-0216-4710-94e2-50a4b97c4238 button.colab-df-convert');\n",
              "      buttonEl.style.display =\n",
              "        google.colab.kernel.accessAllowed ? 'block' : 'none';\n",
              "\n",
              "      async function convertToInteractive(key) {\n",
              "        const element = document.querySelector('#df-a47e6b86-0216-4710-94e2-50a4b97c4238');\n",
              "        const dataTable =\n",
              "          await google.colab.kernel.invokeFunction('convertToInteractive',\n",
              "                                                    [key], {});\n",
              "        if (!dataTable) return;\n",
              "\n",
              "        const docLinkHtml = 'Like what you see? Visit the ' +\n",
              "          '<a target=\"_blank\" href=https://colab.research.google.com/notebooks/data_table.ipynb>data table notebook</a>'\n",
              "          + ' to learn more about interactive tables.';\n",
              "        element.innerHTML = '';\n",
              "        dataTable['output_type'] = 'display_data';\n",
              "        await google.colab.output.renderOutput(dataTable, element);\n",
              "        const docLink = document.createElement('div');\n",
              "        docLink.innerHTML = docLinkHtml;\n",
              "        element.appendChild(docLink);\n",
              "      }\n",
              "    </script>\n",
              "  </div>\n",
              "\n",
              "\n",
              "<div id=\"df-6af491fe-ddc0-4bfb-a4e3-75baf13c83c5\">\n",
              "  <button class=\"colab-df-quickchart\" onclick=\"quickchart('df-6af491fe-ddc0-4bfb-a4e3-75baf13c83c5')\"\n",
              "            title=\"Suggest charts\"\n",
              "            style=\"display:none;\">\n",
              "\n",
              "<svg xmlns=\"http://www.w3.org/2000/svg\" height=\"24px\"viewBox=\"0 0 24 24\"\n",
              "     width=\"24px\">\n",
              "    <g>\n",
              "        <path d=\"M19 3H5c-1.1 0-2 .9-2 2v14c0 1.1.9 2 2 2h14c1.1 0 2-.9 2-2V5c0-1.1-.9-2-2-2zM9 17H7v-7h2v7zm4 0h-2V7h2v10zm4 0h-2v-4h2v4z\"/>\n",
              "    </g>\n",
              "</svg>\n",
              "  </button>\n",
              "\n",
              "<style>\n",
              "  .colab-df-quickchart {\n",
              "      --bg-color: #E8F0FE;\n",
              "      --fill-color: #1967D2;\n",
              "      --hover-bg-color: #E2EBFA;\n",
              "      --hover-fill-color: #174EA6;\n",
              "      --disabled-fill-color: #AAA;\n",
              "      --disabled-bg-color: #DDD;\n",
              "  }\n",
              "\n",
              "  [theme=dark] .colab-df-quickchart {\n",
              "      --bg-color: #3B4455;\n",
              "      --fill-color: #D2E3FC;\n",
              "      --hover-bg-color: #434B5C;\n",
              "      --hover-fill-color: #FFFFFF;\n",
              "      --disabled-bg-color: #3B4455;\n",
              "      --disabled-fill-color: #666;\n",
              "  }\n",
              "\n",
              "  .colab-df-quickchart {\n",
              "    background-color: var(--bg-color);\n",
              "    border: none;\n",
              "    border-radius: 50%;\n",
              "    cursor: pointer;\n",
              "    display: none;\n",
              "    fill: var(--fill-color);\n",
              "    height: 32px;\n",
              "    padding: 0;\n",
              "    width: 32px;\n",
              "  }\n",
              "\n",
              "  .colab-df-quickchart:hover {\n",
              "    background-color: var(--hover-bg-color);\n",
              "    box-shadow: 0 1px 2px rgba(60, 64, 67, 0.3), 0 1px 3px 1px rgba(60, 64, 67, 0.15);\n",
              "    fill: var(--button-hover-fill-color);\n",
              "  }\n",
              "\n",
              "  .colab-df-quickchart-complete:disabled,\n",
              "  .colab-df-quickchart-complete:disabled:hover {\n",
              "    background-color: var(--disabled-bg-color);\n",
              "    fill: var(--disabled-fill-color);\n",
              "    box-shadow: none;\n",
              "  }\n",
              "\n",
              "  .colab-df-spinner {\n",
              "    border: 2px solid var(--fill-color);\n",
              "    border-color: transparent;\n",
              "    border-bottom-color: var(--fill-color);\n",
              "    animation:\n",
              "      spin 1s steps(1) infinite;\n",
              "  }\n",
              "\n",
              "  @keyframes spin {\n",
              "    0% {\n",
              "      border-color: transparent;\n",
              "      border-bottom-color: var(--fill-color);\n",
              "      border-left-color: var(--fill-color);\n",
              "    }\n",
              "    20% {\n",
              "      border-color: transparent;\n",
              "      border-left-color: var(--fill-color);\n",
              "      border-top-color: var(--fill-color);\n",
              "    }\n",
              "    30% {\n",
              "      border-color: transparent;\n",
              "      border-left-color: var(--fill-color);\n",
              "      border-top-color: var(--fill-color);\n",
              "      border-right-color: var(--fill-color);\n",
              "    }\n",
              "    40% {\n",
              "      border-color: transparent;\n",
              "      border-right-color: var(--fill-color);\n",
              "      border-top-color: var(--fill-color);\n",
              "    }\n",
              "    60% {\n",
              "      border-color: transparent;\n",
              "      border-right-color: var(--fill-color);\n",
              "    }\n",
              "    80% {\n",
              "      border-color: transparent;\n",
              "      border-right-color: var(--fill-color);\n",
              "      border-bottom-color: var(--fill-color);\n",
              "    }\n",
              "    90% {\n",
              "      border-color: transparent;\n",
              "      border-bottom-color: var(--fill-color);\n",
              "    }\n",
              "  }\n",
              "</style>\n",
              "\n",
              "  <script>\n",
              "    async function quickchart(key) {\n",
              "      const quickchartButtonEl =\n",
              "        document.querySelector('#' + key + ' button');\n",
              "      quickchartButtonEl.disabled = true;  // To prevent multiple clicks.\n",
              "      quickchartButtonEl.classList.add('colab-df-spinner');\n",
              "      try {\n",
              "        const charts = await google.colab.kernel.invokeFunction(\n",
              "            'suggestCharts', [key], {});\n",
              "      } catch (error) {\n",
              "        console.error('Error during call to suggestCharts:', error);\n",
              "      }\n",
              "      quickchartButtonEl.classList.remove('colab-df-spinner');\n",
              "      quickchartButtonEl.classList.add('colab-df-quickchart-complete');\n",
              "    }\n",
              "    (() => {\n",
              "      let quickchartButtonEl =\n",
              "        document.querySelector('#df-6af491fe-ddc0-4bfb-a4e3-75baf13c83c5 button');\n",
              "      quickchartButtonEl.style.display =\n",
              "        google.colab.kernel.accessAllowed ? 'block' : 'none';\n",
              "    })();\n",
              "  </script>\n",
              "</div>\n",
              "\n",
              "    </div>\n",
              "  </div>\n"
            ],
            "application/vnd.google.colaboratory.intrinsic+json": {
              "type": "dataframe",
              "summary": "{\n  \"name\": \"recommend(model, dataset, user_id_str='2', movie_df=movie_df, top_n=5)\",\n  \"rows\": 5,\n  \"fields\": [\n    {\n      \"column\": \"item_id\",\n      \"properties\": {\n        \"dtype\": \"string\",\n        \"num_unique_values\": 5,\n        \"samples\": [\n          \"313\",\n          \"302\",\n          \"258\"\n        ],\n        \"semantic_type\": \"\",\n        \"description\": \"\"\n      }\n    },\n    {\n      \"column\": \"title\",\n      \"properties\": {\n        \"dtype\": \"string\",\n        \"num_unique_values\": 5,\n        \"samples\": [\n          \"Titanic (1997)\",\n          \"L.A. Confidential (1997)\",\n          \"Contact (1997)\"\n        ],\n        \"semantic_type\": \"\",\n        \"description\": \"\"\n      }\n    },\n    {\n      \"column\": \"rank\",\n      \"properties\": {\n        \"dtype\": \"number\",\n        \"std\": 1,\n        \"min\": 0,\n        \"max\": 4,\n        \"num_unique_values\": 5,\n        \"samples\": [\n          1,\n          4,\n          2\n        ],\n        \"semantic_type\": \"\",\n        \"description\": \"\"\n      }\n    }\n  ]\n}"
            }
          },
          "metadata": {},
          "execution_count": 10
        }
      ]
    }
  ]
}